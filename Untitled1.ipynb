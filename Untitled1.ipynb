{
 "cells": [
  {
   "cell_type": "code",
   "execution_count": 1,
   "id": "35c0b25d-a2bf-4070-86aa-dd04831a62c8",
   "metadata": {},
   "outputs": [],
   "source": [
    "import os\n",
    "import polars as pl\n",
    "\n",
    "s3_endpoint = f'https://{os.environ[\"AWS_S3_ENDPOINT\"]}'\n",
    "s3_access_key = os.environ[\"AWS_ACCESS_KEY_ID\"]\n",
    "s3_secret_access_key = os.environ[\"AWS_SECRET_ACCESS_KEY\"]\n",
    "s3_session_token = os.environ[\"AWS_SESSION_TOKEN\"]\n",
    "s3_region = os.environ[\"AWS_DEFAULT_REGION\"]\n",
    "\n",
    "s3_username = os.environ[\"VAULT_TOP_DIR\"] # un peu bancal pour avoir le username"
   ]
  },
  {
   "cell_type": "code",
   "execution_count": 2,
   "id": "027b3be8-50f7-442e-87e0-a33001c01417",
   "metadata": {},
   "outputs": [],
   "source": [
    "s3_file_path = f\"s3://{s3_username}/tp3 SQL/tp3-longueur-fil.parquet\"\n",
    "\n",
    "storage_options = {\n",
    "    \"aws_endpoint\":  s3_endpoint,\n",
    "    \"aws_access_key_id\": s3_access_key,\n",
    "    \"aws_secret_access_key\": s3_secret_access_key,\n",
    "    \"aws_token\": s3_session_token,\n",
    "    \"aws_region\": s3_region\n",
    "  }\n",
    "\n",
    "file = pl.scan_parquet(source=s3_file_path, \n",
    "                     storage_options=storage_options)"
   ]
  },
  {
   "cell_type": "code",
   "execution_count": 5,
   "id": "1c57ce92-1366-43f4-881c-b9542ec23389",
   "metadata": {},
   "outputs": [],
   "source": [
    "df=file.collect()"
   ]
  },
  {
   "cell_type": "code",
   "execution_count": 6,
   "id": "fe7f8c4a-1942-4dbd-a319-c3f96f89caba",
   "metadata": {},
   "outputs": [
    {
     "name": "stdout",
     "output_type": "stream",
     "text": [
      "shape: (50, 2)\n",
      "┌─────────────────┬──────────┐\n",
      "│ vetement        ┆ longueur │\n",
      "│ ---             ┆ ---      │\n",
      "│ str             ┆ i64      │\n",
      "╞═════════════════╪══════════╡\n",
      "│ slip            ┆ 120      │\n",
      "│ culotte         ┆ 150      │\n",
      "│ chemise         ┆ 200      │\n",
      "│ pantalon        ┆ 180      │\n",
      "│ jupe            ┆ 160      │\n",
      "│ …               ┆ …        │\n",
      "│ chemisette      ┆ 130      │\n",
      "│ cape            ┆ 115      │\n",
      "│ body            ┆ 145      │\n",
      "│ veston          ┆ 200      │\n",
      "│ robe de chambre ┆ 225      │\n",
      "└─────────────────┴──────────┘\n"
     ]
    }
   ],
   "source": [
    "print(df)"
   ]
  },
  {
   "cell_type": "code",
   "execution_count": null,
   "id": "6f4276ff-89ff-4766-aac1-b627a85d97b9",
   "metadata": {},
   "outputs": [],
   "source": []
  }
 ],
 "metadata": {
  "kernelspec": {
   "display_name": "Python 3 (ipykernel)",
   "language": "python",
   "name": "python3"
  },
  "language_info": {
   "codemirror_mode": {
    "name": "ipython",
    "version": 3
   },
   "file_extension": ".py",
   "mimetype": "text/x-python",
   "name": "python",
   "nbconvert_exporter": "python",
   "pygments_lexer": "ipython3",
   "version": "3.12.6"
  }
 },
 "nbformat": 4,
 "nbformat_minor": 5
}
