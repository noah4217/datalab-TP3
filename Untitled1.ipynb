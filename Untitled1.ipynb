{
 "cells": [
  {
   "cell_type": "code",
   "execution_count": 1,
   "id": "35c0b25d-a2bf-4070-86aa-dd04831a62c8",
   "metadata": {},
   "outputs": [],
   "source": [
    "import os\n",
    "import polars as pl\n",
    "\n",
    "s3_endpoint = f'https://{os.environ[\"AWS_S3_ENDPOINT\"]}'\n",
    "s3_access_key = os.environ[\"AWS_ACCESS_KEY_ID\"]\n",
    "s3_secret_access_key = os.environ[\"AWS_SECRET_ACCESS_KEY\"]\n",
    "s3_session_token = os.environ[\"AWS_SESSION_TOKEN\"]\n",
    "s3_region = os.environ[\"AWS_DEFAULT_REGION\"]\n",
    "\n",
    "s3_username = os.environ[\"VAULT_TOP_DIR\"] # un peu bancal pour avoir le username"
   ]
  },
  {
   "cell_type": "code",
   "execution_count": 2,
   "id": "027b3be8-50f7-442e-87e0-a33001c01417",
   "metadata": {},
   "outputs": [],
   "source": [
    "s3_file_path = f\"s3://{s3_username}/tp3 SQL/tp3-longueur-fil.parquet\"\n",
    "\n",
    "storage_options = {\n",
    "    \"aws_endpoint\":  s3_endpoint,\n",
    "    \"aws_access_key_id\": s3_access_key,\n",
    "    \"aws_secret_access_key\": s3_secret_access_key,\n",
    "    \"aws_token\": s3_session_token,\n",
    "    \"aws_region\": s3_region\n",
    "  }\n",
    "\n",
    "file = pl.scan_parquet(source=s3_file_path, \n",
    "                     storage_options=storage_options)"
   ]
  },
  {
   "cell_type": "code",
   "execution_count": 5,
   "id": "1c57ce92-1366-43f4-881c-b9542ec23389",
   "metadata": {},
   "outputs": [],
   "source": [
    "df=file.collect()"
   ]
  },
  {
   "cell_type": "code",
   "execution_count": 6,
   "id": "fe7f8c4a-1942-4dbd-a319-c3f96f89caba",
   "metadata": {},
   "outputs": [
    {
     "name": "stdout",
     "output_type": "stream",
     "text": [
      "shape: (50, 2)\n",
      "┌─────────────────┬──────────┐\n",
      "│ vetement        ┆ longueur │\n",
      "│ ---             ┆ ---      │\n",
      "│ str             ┆ i64      │\n",
      "╞═════════════════╪══════════╡\n",
      "│ slip            ┆ 120      │\n",
      "│ culotte         ┆ 150      │\n",
      "│ chemise         ┆ 200      │\n",
      "│ pantalon        ┆ 180      │\n",
      "│ jupe            ┆ 160      │\n",
      "│ …               ┆ …        │\n",
      "│ chemisette      ┆ 130      │\n",
      "│ cape            ┆ 115      │\n",
      "│ body            ┆ 145      │\n",
      "│ veston          ┆ 200      │\n",
      "│ robe de chambre ┆ 225      │\n",
      "└─────────────────┴──────────┘\n"
     ]
    }
   ],
   "source": [
    "print(df)"
   ]
  },
  {
   "cell_type": "code",
   "execution_count": 17,
   "id": "f01039a6-806d-42de-9c82-5af83ca3e4c7",
   "metadata": {},
   "outputs": [
    {
     "ename": "ColumnNotFoundError",
     "evalue": "unable to find column \"gilet\"; valid columns: [\"vetement\", \"longueur\"]\n\nResolved plan until failure:\n\n\t---> FAILED HERE RESOLVING 'filter' <---\nDF [\"vetement\", \"longueur\"]; PROJECT */2 COLUMNS; SELECTION: None",
     "output_type": "error",
     "traceback": [
      "\u001b[0;31m---------------------------------------------------------------------------\u001b[0m",
      "\u001b[0;31mColumnNotFoundError\u001b[0m                       Traceback (most recent call last)",
      "Cell \u001b[0;32mIn[17], line 1\u001b[0m\n\u001b[0;32m----> 1\u001b[0m \u001b[43mdf\u001b[49m\u001b[38;5;241;43m.\u001b[39;49m\u001b[43mfilter\u001b[49m\u001b[43m(\u001b[49m\u001b[43mpl\u001b[49m\u001b[38;5;241;43m.\u001b[39;49m\u001b[43mcol\u001b[49m\u001b[43m(\u001b[49m\u001b[38;5;124;43m\"\u001b[39;49m\u001b[38;5;124;43mgilet\u001b[39;49m\u001b[38;5;124;43m\"\u001b[39;49m\u001b[43m)\u001b[49m\u001b[43m \u001b[49m\u001b[38;5;241;43m>\u001b[39;49m\u001b[38;5;241;43m=\u001b[39;49m\u001b[43m \u001b[49m\u001b[38;5;124;43m\"\u001b[39;49m\u001b[38;5;124;43m0\u001b[39;49m\u001b[38;5;124;43m\"\u001b[39;49m\u001b[43m)\u001b[49m\n\u001b[1;32m      2\u001b[0m \u001b[38;5;28mprint\u001b[39m(df)\n",
      "File \u001b[0;32m/opt/conda/lib/python3.12/site-packages/polars/dataframe/frame.py:4768\u001b[0m, in \u001b[0;36mDataFrame.filter\u001b[0;34m(self, *predicates, **constraints)\u001b[0m\n\u001b[1;32m   4614\u001b[0m \u001b[38;5;28;01mdef\u001b[39;00m \u001b[38;5;21mfilter\u001b[39m(\n\u001b[1;32m   4615\u001b[0m     \u001b[38;5;28mself\u001b[39m,\n\u001b[1;32m   4616\u001b[0m     \u001b[38;5;241m*\u001b[39mpredicates: (\n\u001b[0;32m   (...)\u001b[0m\n\u001b[1;32m   4623\u001b[0m     \u001b[38;5;241m*\u001b[39m\u001b[38;5;241m*\u001b[39mconstraints: Any,\n\u001b[1;32m   4624\u001b[0m ) \u001b[38;5;241m-\u001b[39m\u001b[38;5;241m>\u001b[39m DataFrame:\n\u001b[1;32m   4625\u001b[0m \u001b[38;5;250m    \u001b[39m\u001b[38;5;124;03m\"\"\"\u001b[39;00m\n\u001b[1;32m   4626\u001b[0m \u001b[38;5;124;03m    Filter the rows in the DataFrame based on one or more predicate expressions.\u001b[39;00m\n\u001b[1;32m   4627\u001b[0m \n\u001b[0;32m   (...)\u001b[0m\n\u001b[1;32m   4766\u001b[0m \n\u001b[1;32m   4767\u001b[0m \u001b[38;5;124;03m    \"\"\"\u001b[39;00m\n\u001b[0;32m-> 4768\u001b[0m     \u001b[38;5;28;01mreturn\u001b[39;00m \u001b[38;5;28;43mself\u001b[39;49m\u001b[38;5;241;43m.\u001b[39;49m\u001b[43mlazy\u001b[49m\u001b[43m(\u001b[49m\u001b[43m)\u001b[49m\u001b[38;5;241;43m.\u001b[39;49m\u001b[43mfilter\u001b[49m\u001b[43m(\u001b[49m\u001b[38;5;241;43m*\u001b[39;49m\u001b[43mpredicates\u001b[49m\u001b[43m,\u001b[49m\u001b[43m \u001b[49m\u001b[38;5;241;43m*\u001b[39;49m\u001b[38;5;241;43m*\u001b[39;49m\u001b[43mconstraints\u001b[49m\u001b[43m)\u001b[49m\u001b[38;5;241;43m.\u001b[39;49m\u001b[43mcollect\u001b[49m\u001b[43m(\u001b[49m\u001b[43m_eager\u001b[49m\u001b[38;5;241;43m=\u001b[39;49m\u001b[38;5;28;43;01mTrue\u001b[39;49;00m\u001b[43m)\u001b[49m\n",
      "File \u001b[0;32m/opt/conda/lib/python3.12/site-packages/polars/lazyframe/frame.py:2055\u001b[0m, in \u001b[0;36mLazyFrame.collect\u001b[0;34m(self, type_coercion, predicate_pushdown, projection_pushdown, simplify_expression, slice_pushdown, comm_subplan_elim, comm_subexpr_elim, cluster_with_columns, collapse_joins, no_optimization, streaming, engine, background, _eager, **_kwargs)\u001b[0m\n\u001b[1;32m   2053\u001b[0m \u001b[38;5;66;03m# Only for testing purposes\u001b[39;00m\n\u001b[1;32m   2054\u001b[0m callback \u001b[38;5;241m=\u001b[39m _kwargs\u001b[38;5;241m.\u001b[39mget(\u001b[38;5;124m\"\u001b[39m\u001b[38;5;124mpost_opt_callback\u001b[39m\u001b[38;5;124m\"\u001b[39m, callback)\n\u001b[0;32m-> 2055\u001b[0m \u001b[38;5;28;01mreturn\u001b[39;00m wrap_df(\u001b[43mldf\u001b[49m\u001b[38;5;241;43m.\u001b[39;49m\u001b[43mcollect\u001b[49m\u001b[43m(\u001b[49m\u001b[43mcallback\u001b[49m\u001b[43m)\u001b[49m)\n",
      "\u001b[0;31mColumnNotFoundError\u001b[0m: unable to find column \"gilet\"; valid columns: [\"vetement\", \"longueur\"]\n\nResolved plan until failure:\n\n\t---> FAILED HERE RESOLVING 'filter' <---\nDF [\"vetement\", \"longueur\"]; PROJECT */2 COLUMNS; SELECTION: None"
     ]
    }
   ],
   "source": [
    "df.filter(pl.col(\"gilet\") >= \"0\")\n",
    "print(df)"
   ]
  },
  {
   "cell_type": "code",
   "execution_count": null,
   "id": "6f4276ff-89ff-4766-aac1-b627a85d97b9",
   "metadata": {},
   "outputs": [],
   "source": []
  }
 ],
 "metadata": {
  "kernelspec": {
   "display_name": "Python 3 (ipykernel)",
   "language": "python",
   "name": "python3"
  },
  "language_info": {
   "codemirror_mode": {
    "name": "ipython",
    "version": 3
   },
   "file_extension": ".py",
   "mimetype": "text/x-python",
   "name": "python",
   "nbconvert_exporter": "python",
   "pygments_lexer": "ipython3",
   "version": "3.12.6"
  }
 },
 "nbformat": 4,
 "nbformat_minor": 5
}
